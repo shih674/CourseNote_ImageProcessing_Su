{
 "cells": [
  {
   "cell_type": "markdown",
   "metadata": {},
   "source": [
    "## ■引用套件\n",
    "### opencv\n",
    "    * 安裝語法:  \n",
    "            pip install opencv-python\n",
    "            pip install opencv-contrib-python\n",
    "    * 引用語法:\n",
    "            import cv2\n",
    "            \n",
    "### numpy\n",
    "    * 簡介: 矩陣與數學運算的函式庫\n",
    "    * 安裝語法: pip install numpy\n",
    "    * 引用語法: import numpy as np (as np慣用語法，非強制)"
   ]
  },
  {
   "cell_type": "code",
   "execution_count": 1,
   "metadata": {},
   "outputs": [],
   "source": [
    "import cv2\n",
    "import numpy as np"
   ]
  },
  {
   "cell_type": "markdown",
   "metadata": {},
   "source": [
    "***\n",
    "## 圖像變數=cv2.imread(\"圖片路徑\", 讀取方式)\n",
    "    * 功能: 讀取一張圖像\n",
    "    * 讀取方式: -1 →完整(包含透明度)\n",
    "                0 →灰階\n",
    "                1 →一般(不含透明度)"
   ]
  },
  {
   "cell_type": "code",
   "execution_count": 2,
   "metadata": {
    "collapsed": true
   },
   "outputs": [
    {
     "data": {
      "text/plain": [
       "array([[[255, 192, 109],\n",
       "        [255, 190, 107],\n",
       "        [254, 188, 105],\n",
       "        ...,\n",
       "        [254, 188, 105],\n",
       "        [254, 188, 105],\n",
       "        [255, 189, 106]],\n",
       "\n",
       "       [[255, 190, 107],\n",
       "        [254, 188, 105],\n",
       "        [252, 186, 103],\n",
       "        ...,\n",
       "        [253, 187, 104],\n",
       "        [254, 188, 105],\n",
       "        [254, 188, 105]],\n",
       "\n",
       "       [[254, 188, 105],\n",
       "        [252, 186, 103],\n",
       "        [250, 184, 101],\n",
       "        ...,\n",
       "        [252, 186, 103],\n",
       "        [253, 187, 104],\n",
       "        [253, 187, 104]],\n",
       "\n",
       "       ...,\n",
       "\n",
       "       [[ 68, 127,  52],\n",
       "        [ 74, 136,  58],\n",
       "        [ 81, 145,  63],\n",
       "        ...,\n",
       "        [ 69, 159, 224],\n",
       "        [ 73, 163, 227],\n",
       "        [ 78, 168, 232]],\n",
       "\n",
       "       [[ 86, 151,  65],\n",
       "        [ 82, 150,  61],\n",
       "        [ 78, 149,  56],\n",
       "        ...,\n",
       "        [ 77, 165, 229],\n",
       "        [ 76, 164, 228],\n",
       "        [ 82, 170, 234]],\n",
       "\n",
       "       [[ 80, 149,  58],\n",
       "        [ 78, 149,  56],\n",
       "        [ 76, 149,  51],\n",
       "        ...,\n",
       "        [ 77, 165, 229],\n",
       "        [ 77, 164, 228],\n",
       "        [ 83, 170, 234]]], dtype=uint8)"
      ]
     },
     "execution_count": 2,
     "metadata": {},
     "output_type": "execute_result"
    }
   ],
   "source": [
    "image0 = cv2.imread('test.jpg', 1)\n",
    "image0"
   ]
  },
  {
   "cell_type": "markdown",
   "metadata": {},
   "source": [
    "## 顯示圖片: 需要三行程式碼，會彈出新視窗顯示圖片\n",
    "### cv2.imshow(\"視窗名稱\", 圖片變數)\n",
    "    * 功能: 顯示圖片\n",
    "### cv2.waitKey(毫秒數)\n",
    "    * 如果不設置或設置0，會一直等待使用者按下按鍵\n",
    "    * 如果設置了，暫停到時間到繼續執行\n",
    "### cv2.destroyAllWindows()\n",
    "    * 關閉所有視窗\n",
    "    * 若是透過右上角的X，會造成表面上關閉視窗，實際上視窗仍在kernal執行的假象。系統並未釋放剛剛執行的資源，多重複幾次有機會造成kernal資源耗盡而dead"
   ]
  },
  {
   "cell_type": "code",
   "execution_count": 3,
   "metadata": {},
   "outputs": [],
   "source": [
    "cv2.imshow('Image: test', image0)\n",
    "cv2.waitKey(0)\n",
    "cv2.destroyAllWindows()"
   ]
  },
  {
   "cell_type": "markdown",
   "metadata": {},
   "source": [
    "## image.shape\n",
    "    * 功能: 取得image的維度大小，表現形式為(高,寬,當前色彩空間的通道數量)\n",
    "            當前色彩空間的通道數量 = RGB → 3\n",
    "                                    GRAY → 2"
   ]
  },
  {
   "cell_type": "code",
   "execution_count": 5,
   "metadata": {},
   "outputs": [
    {
     "name": "stdout",
     "output_type": "stream",
     "text": [
      "shape   :  (450, 800, 3)\n",
      "shape[0]:  450\n",
      "shape[1]:  800\n",
      "shape[2]:  3\n"
     ]
    }
   ],
   "source": [
    "print('shape   : ',image0.shape)\n",
    "print('shape[0]: ',image0.shape[0])\n",
    "print('shape[1]: ',image0.shape[1])\n",
    "print('shape[2]: ',image0.shape[2])"
   ]
  },
  {
   "cell_type": "markdown",
   "metadata": {},
   "source": [
    "## cv2.imwrite(\"圖片路徑\", 圖片變數, 設定參數)\n",
    "    * 功能: 儲存圖片\n",
    "    * 設定參數: JPG限定功能\n",
    "                [cv2.IMWRITE_JPEG_QUALITY, 畫質比率]\n",
    "                    畫質比率: 0~100"
   ]
  },
  {
   "cell_type": "code",
   "execution_count": 7,
   "metadata": {},
   "outputs": [
    {
     "data": {
      "text/plain": [
       "True"
      ]
     },
     "execution_count": 7,
     "metadata": {},
     "output_type": "execute_result"
    }
   ],
   "source": [
    "cv2.imwrite('return.jpg', image0, [cv2.IMWRITE_JPEG_QUALITY, 50])"
   ]
  },
  {
   "cell_type": "markdown",
   "metadata": {},
   "source": [
    "---\n",
    "## ■使用串流/ 影片檔\n",
    "### 控制變數=cv2.VideoCapture(來源)\n",
    "    * 功能: 取得影像來源\n",
    "    * 說明: \n",
    "            來源: 如果輸入數字則讀取當前電腦連結的攝影機，如果輸入檔案路徑，則讀取指定路徑的影片檔案。\n",
    "            \n",
    "### 變數=控制變數.isOpened()\n",
    "    * 功能: 判斷影像來源是否有開啟\n",
    "    \n",
    "### 變數一, 變數二=控制變數.read()\n",
    "    * 功能: 取得影像\n",
    "    * 說明: \n",
    "            變數一: 如果有讀到畫面則返回True，否則Flase\n",
    "            變數二: 「裝有讀到的畫面(圖像)」的變數\n",
    "            \n",
    "### cv2.waitKey(33)\n",
    "    * 1sec = 1000 ms\n",
    "    * 攝影機常見fps為30 → 一秒輸出30個影格(frame)\n",
    "    綜合以上兩點，我們知道一個影格可以停留時間約 1000/30 = 33ms。所以請程式睡眠33ms之後再跟攝影機拿下一個影格\n",
    "    換句話說，這裡的數字請跟著攝影機提供的規格走\n",
    "        24fps→42\n",
    "        30fps→33\n",
    "        60fps→17"
   ]
  },
  {
   "cell_type": "code",
   "execution_count": null,
   "metadata": {},
   "outputs": [],
   "source": [
    "'''\n",
    "# 以下程式碼先不要執行，裝了攝影機再執行\n",
    "\n",
    "# 取得0號攝影機的影像\n",
    "p1 = cv2.VideoCapture(0)\n",
    "\n",
    "while p1.isOpened():\n",
    "    ret, m1 = p1.read()\n",
    "    if ret:\n",
    "        cv2.imshowh('Image1', m1)\n",
    "        cv2.waitKey(33)\n",
    "cv2.destroyAllWindows()\n",
    "'''"
   ]
  },
  {
   "cell_type": "markdown",
   "metadata": {},
   "source": [
    "## ■上面的例子再進階\n",
    "\n",
    "```\n",
    "cv2.waitKey(33)\n",
    "```\n",
    "### 更換成\n",
    "```\n",
    "if cv2.waitKey(33) != -1:\n",
    "     break\n",
    "```\n",
    "### 使得能夠成功跳脫迴圈並執行destroyALLWindows()這行"
   ]
  },
  {
   "cell_type": "code",
   "execution_count": 8,
   "metadata": {},
   "outputs": [
    {
     "data": {
      "text/plain": [
       "\"\\n# 先不要執行的程式碼，裝了攝影機在執行\\n\\n# 取得0號攝影機的影像\\np1 = cv2.VideoCapture(0)\\n\\nwhile p1.isOpened():\\n    ret, m1 = p1.read()\\n    if ret:\\n        cv2.imshowh('Image1', m1)\\n        if cv2.waitKey(33) != -1:\\n            break\\ncv2.destroyAllWindows()\\n\""
      ]
     },
     "execution_count": 8,
     "metadata": {},
     "output_type": "execute_result"
    }
   ],
   "source": [
    "'''\n",
    "# 先不要執行的程式碼，裝了攝影機在執行\n",
    "\n",
    "# 取得0號攝影機的影像\n",
    "p1 = cv2.VideoCapture(0)\n",
    "\n",
    "while p1.isOpened():\n",
    "    ret, m1 = p1.read()\n",
    "    if ret:\n",
    "        cv2.imshowh('Image1', m1)\n",
    "        if cv2.waitKey(33) != -1:\n",
    "            break\n",
    "cv2.destroyAllWindows()\n",
    "'''"
   ]
  },
  {
   "cell_type": "markdown",
   "metadata": {},
   "source": [
    "## ■運用控制變數p1本身的屬性\n",
    "\n",
    "### 控制變數.get(參數)\n",
    "    * 功能: 取得來源資訊\n",
    "    * 參數: \n",
    "        1 => 當前的影格\n",
    "        3 => 影像寬度\n",
    "        4 => 影像高度\n",
    "        5 => 每秒的影格數\n",
    "        7 => 影片的總影格數\n",
    "### 控制變數.set(參數, 設定)  \n",
    "    * 功能: 設定來源資訊\n",
    "    * 範例: \n",
    "            p1.set(1, 6000)\n",
    "            當前影格設定為第6000格 \n",
    "            i.e. 從第6000格開始播放"
   ]
  },
  {
   "cell_type": "code",
   "execution_count": 11,
   "metadata": {},
   "outputs": [],
   "source": [
    "# 來自於電腦內部的影片檔，而不是串流\n",
    "p1 = cv2.VideoCapture('Youtube.mp4')\n",
    "print('高: ', p1.get(4))\n",
    "print('寬: ', p1.get(3))\n",
    "print('總影格: ', p1.get(7))\n",
    "print('FPS: ', p1.get(5))\n",
    "\n",
    "# 跳轉功能\n",
    "p1.set(1, 6000)\n",
    "\n",
    "while p1.isOpened():\n",
    "    ret, m1 = p1.read()\n",
    "    if ret:\n",
    "        cv2.imshow('Image1', m1)\n",
    "        if cv2.waitKey(33) != -1:\n",
    "            break\n",
    "    else:\n",
    "        break\n",
    "cv2.destroyAllWindows()"
   ]
  },
  {
   "cell_type": "markdown",
   "metadata": {},
   "source": [
    "---\n",
    "## ■轉存串流、剪輯影片\n",
    "\n",
    "### 控制變數=cv2.VideoWriter(檔案路徑, 格式, 每秒影格數, 大小)\n",
    "    * 功能: 建立儲存控制變數\n",
    "    * 參數: \n",
    "            檔案路徑: 格式不同會有不同的副檔名\n",
    "            大小: Tuple類型：(寬, 高)\n",
    "\n",
    "### obj_name = cv2.VideoWriter_fourcc(*'編碼格式')\n",
    "    * 功能: 影片格式設定，可套用到VideoWriter的格式\n",
    "    * 參數: 編碼格式 1. MP4V => MP4格式\n",
    "                    2. XVID => AVI格式\n",
    "                    \n",
    "### 控制變數.write(圖像變數)\n",
    "    * 功能: 寫入影片影格\n",
    "### 控制變數.release()\n",
    "    * 功能: 使用完畢後，釋放控制變數。\n",
    "    !!! 此為必要步驟，歸還系統資源 !!!"
   ]
  },
  {
   "cell_type": "markdown",
   "metadata": {},
   "source": [
    "## ■型1: 基本型- 把原本影片寫入新影片中"
   ]
  },
  {
   "cell_type": "code",
   "execution_count": 20,
   "metadata": {},
   "outputs": [],
   "source": [
    "# 以下程式碼二選一使用\n",
    "# 取用電腦內部的影片檔\n",
    "p1 = cv2.VideoCapture('Youtube.mp4')\n",
    "# 取用串流\n",
    "#p1 = cv2.VideoCapture(0)\n",
    "\n",
    "# 設定影像編碼格式\n",
    "f = cv2.VideoWriter_fourcc(*'MP4V')\n",
    "\n",
    "# 取得p1的高\n",
    "height = int(p1.get(4))\n",
    "# 取得p1的寬\n",
    "width  = int(p1.get(3))\n",
    "\n",
    "# 建立空的影像\n",
    "p2 = cv2.VideoWriter('Youtube2.mp4', f, 30, (width,height))\n",
    "\n",
    "while p1.isOpened():\n",
    "    ret, m1 = p1.read()\n",
    "    if ret:\n",
    "        # 把 m1當前畫格寫入p2當前畫格\n",
    "        p2.write(m1)\n",
    "        # 顯示m1當前畫格\n",
    "        cv2.imshow('Image1', m1)\n",
    "        if cv2.waitKey(33) != -1:\n",
    "            break\n",
    "    else:\n",
    "        break\n",
    "p2.release()\n",
    "cv2.destroyAllWindows()"
   ]
  },
  {
   "cell_type": "markdown",
   "metadata": {},
   "source": [
    "## ■型2: 變化型- 只存取原影片指定畫格到新影片"
   ]
  },
  {
   "cell_type": "code",
   "execution_count": null,
   "metadata": {},
   "outputs": [],
   "source": [
    "\n",
    "p1 = cv2.VideoCapture('Youtube.mp4')\n",
    "\n",
    "f = cv2.VideoWriter_fourcc(*'MP4V')\n",
    "\n",
    "height = int(p1.get(4))\n",
    "width  = int(p1.get(3))\n",
    "\n",
    "p2 = cv2.VideoWriter('Youtube2.mp4', f, 30, (width,height))\n",
    "\n",
    "\n",
    "i = 0\n",
    "while p1.isOpened():\n",
    "    ret, m1 = p1.read()\n",
    "    if ret:\n",
    "        i += 1\n",
    "        # 只寫入第90到第300個畫格\n",
    "        if i>90 and <=300:\n",
    "            p2.write(m1)\n",
    "        cv2.imshow('Image1', m1)\n",
    "        if cv2.waitKey(33) != -1:\n",
    "            break\n",
    "    else:\n",
    "        break\n",
    "p2.release()\n",
    "cv2.destroyAllWindows()"
   ]
  }
 ],
 "metadata": {
  "kernelspec": {
   "display_name": "Python 3",
   "language": "python",
   "name": "python3"
  },
  "language_info": {
   "codemirror_mode": {
    "name": "ipython",
    "version": 3
   },
   "file_extension": ".py",
   "mimetype": "text/x-python",
   "name": "python",
   "nbconvert_exporter": "python",
   "pygments_lexer": "ipython3",
   "version": "3.6.8"
  }
 },
 "nbformat": 4,
 "nbformat_minor": 4
}
