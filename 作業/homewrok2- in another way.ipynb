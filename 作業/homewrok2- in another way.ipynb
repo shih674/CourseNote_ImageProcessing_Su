{
 "cells": [
  {
   "cell_type": "code",
   "execution_count": 1,
   "metadata": {},
   "outputs": [],
   "source": [
    "import cv2\n",
    "import numpy as np"
   ]
  },
  {
   "cell_type": "code",
   "execution_count": 2,
   "metadata": {},
   "outputs": [],
   "source": [
    "image0 = cv2.imread('homework2.png')\n",
    "cv2.imshow('Image: test', image0)\n",
    "cv2.waitKey(0)\n",
    "cv2.destroyAllWindows()"
   ]
  },
  {
   "cell_type": "code",
   "execution_count": 3,
   "metadata": {},
   "outputs": [],
   "source": [
    "badguy = np.full((612,1087,3),(255,255,224),np.uint8)\n",
    "cv2.imshow('Image: badguy', badguy)\n",
    "cv2.waitKey(0)\n",
    "cv2.destroyAllWindows()"
   ]
  },
  {
   "cell_type": "code",
   "execution_count": 4,
   "metadata": {},
   "outputs": [],
   "source": [
    "image2 = cv2.subtract(image0,badguy)\n",
    "\n",
    "cv2.imshow('Image: feat badguy', image2)\n",
    "cv2.waitKey(0)\n",
    "cv2.destroyAllWindows()"
   ]
  },
  {
   "cell_type": "code",
   "execution_count": 5,
   "metadata": {},
   "outputs": [],
   "source": [
    "goodguy = np.full((612,1087,3),(255,255,225),np.uint8)\n",
    "image2 = cv2.multiply(image2, goodguy)\n",
    "cv2.imshow('Image: feat goodguy', image2)\n",
    "cv2.waitKey(0)\n",
    "cv2.destroyAllWindows()"
   ]
  },
  {
   "cell_type": "code",
   "execution_count": 6,
   "metadata": {},
   "outputs": [],
   "source": [
    "# 現在圖片中剩兩種顏色，紅色(0,0,255) 黑色(0,0,0)\n",
    "# 藉由下面的運算，我們把B跟G分別都塞入所在pixel的R值\n",
    "# 也就是說本來的pixel若是紅色，新的pixel會變成(255,255,255)白色\n",
    "# 若是黑色則會變成(0,0,0)\n",
    "\n",
    "# 對BGR的B作運算\n",
    "image2[:,:,0] = image2[:,:,2]\n",
    "\n",
    "# 對BGR的G作運算\n",
    "image2[:,:,1] = image2[:,:,2]\n",
    "\n",
    "cv2.imshow('Image: feat adj image2', image2)\n",
    "cv2.waitKey(0)\n",
    "cv2.destroyAllWindows()"
   ]
  },
  {
   "cell_type": "code",
   "execution_count": 7,
   "metadata": {},
   "outputs": [],
   "source": [
    "# 對每個pixel的BRG二進位表示值取補數\n",
    "# 實際效果: 負片效果\n",
    "image2 = cv2.bitwise_not(image2)\n",
    "\n",
    "cv2.imshow('Image: feat adj image2', image2)\n",
    "cv2.waitKey(0)\n",
    "cv2.destroyAllWindows()"
   ]
  },
  {
   "cell_type": "code",
   "execution_count": null,
   "metadata": {},
   "outputs": [],
   "source": []
  }
 ],
 "metadata": {
  "kernelspec": {
   "display_name": "Python 3",
   "language": "python",
   "name": "python3"
  },
  "language_info": {
   "codemirror_mode": {
    "name": "ipython",
    "version": 3
   },
   "file_extension": ".py",
   "mimetype": "text/x-python",
   "name": "python",
   "nbconvert_exporter": "python",
   "pygments_lexer": "ipython3",
   "version": "3.6.8"
  }
 },
 "nbformat": 4,
 "nbformat_minor": 4
}
