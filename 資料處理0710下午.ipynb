{
 "cells": [
  {
   "cell_type": "markdown",
   "metadata": {},
   "source": [
    "## ■引用套件\n",
    "### opencv\n",
    "    * 安裝語法:  \n",
    "            pip install opencv-python\n",
    "            pip install opencv-contrib-python\n",
    "    * 引用語法:\n",
    "            import cv2\n",
    "            \n",
    "### numpy\n",
    "    * 簡介: 矩陣與數學運算的函式庫\n",
    "    * 安裝語法: pip install numpy\n",
    "    * 引用語法: import numpy as np (as np慣用語法，非強制)"
   ]
  },
  {
   "cell_type": "code",
   "execution_count": 1,
   "metadata": {},
   "outputs": [],
   "source": [
    "import cv2\n",
    "import numpy as np"
   ]
  },
  {
   "cell_type": "markdown",
   "metadata": {},
   "source": [
    "### 變數=np.full((維度一長度, 維度二長度…), 初始值, 陣列型態)\n",
    "    * 說明: 由於OpenCV裡面是靠numpy陣列在記錄圖像資訊，所以只要建立一個numpy陣列就等同於建立一個圖像了\n",
    "    * 功能: 建立圖像、建立空畫布\n",
    "    * 參數: (維度一長度, 維度二長度, 維度三長度): 新圖片的高, 新圖片的寬, 顏色的維度\n",
    "            初始值: 若是BGR的圖則填入tuple (Blue, Green, Red)\n",
    "            陣列型態: 陣列中每個元素的資料型別，np.uint8是範圍0~255的整數"
   ]
  },
  {
   "cell_type": "code",
   "execution_count": 2,
   "metadata": {},
   "outputs": [],
   "source": [
    "image0 = np.full((600,800,3),(200,0,220),np.uint8)\n",
    "\n",
    "cv2.imshow('Image: test', image0)\n",
    "cv2.waitKey(0)\n",
    "cv2.destroyAllWindows()"
   ]
  },
  {
   "cell_type": "markdown",
   "metadata": {},
   "source": [
    "## cv2.line(圖像變數, 線的起點, 線的終點, 顏色, 線粗細)\n",
    "    * 功能: 在圖像變數中加入直線\n",
    "    * 參數: 圖像變數: 被作畫的對象\n",
    "            線的起點: (x,y)\n",
    "            線的終點: (x,y)\n",
    "            顏色: 跟著圖像變數的設定走\n",
    "            線粗細: 大於0的值"
   ]
  },
  {
   "cell_type": "code",
   "execution_count": 3,
   "metadata": {},
   "outputs": [],
   "source": [
    "cv2.line(image0, (1,10), (100,10), (255,255,255), 2)\n",
    "\n",
    "cv2.imshow('Image: add line', image0)\n",
    "cv2.waitKey(0)\n",
    "cv2.destroyAllWindows()"
   ]
  },
  {
   "cell_type": "markdown",
   "metadata": {},
   "source": [
    "## cv2.rectangle(圖像變數, 矩形左上點, 矩形右下點, 顏色, 線粗細)\n",
    "    * 功能: 加入矩形\n",
    "    * 參數: 圖像變數: 被作畫的對象\n",
    "            矩形左上點: (x, y)\n",
    "            矩形右下點: (x+width, y+height)\n",
    "            顏色: 跟著圖像變數的設定走\n",
    "            線粗細: 框的粗細程度，如果設為「-1」則會繪製實心圖形"
   ]
  },
  {
   "cell_type": "code",
   "execution_count": 4,
   "metadata": {},
   "outputs": [],
   "source": [
    "# 加入矩形(空心)\n",
    "cv2.rectangle(image0, (1,15), (100,80),(255,255,255),2)\n",
    "cv2.imshow('Image: add line', image0)\n",
    "cv2.waitKey(0)\n",
    "cv2.destroyAllWindows()"
   ]
  },
  {
   "cell_type": "code",
   "execution_count": 5,
   "metadata": {},
   "outputs": [],
   "source": [
    "# 加入矩形(實心)\n",
    "cv2.rectangle(image0, (1,90), (100,130),(255,255,255),-1)\n",
    "cv2.imshow('Image: add line', image0)\n",
    "cv2.waitKey(0)\n",
    "cv2.destroyAllWindows()"
   ]
  },
  {
   "cell_type": "markdown",
   "metadata": {},
   "source": [
    "## cv2.circle(圖像變數, 中心點, 半徑, 顏色, 線粗細)\n",
    "    * 功能: 加入矩形\n",
    "    * 參數: 圖像變數: 被作畫的對象\n",
    "            中心點: 圓心(x, y)\n",
    "            半徑: 正整數\n",
    "            顏色: 跟著圖像變數的設定走\n",
    "            線粗細: 框的粗細程度，如果設為「-1」則會繪製實心圖形"
   ]
  },
  {
   "cell_type": "code",
   "execution_count": 6,
   "metadata": {},
   "outputs": [],
   "source": [
    "# 加入圓形(實心)\n",
    "cv2.circle(image0, (200,100), 50,(255,0,0),2)\n",
    "cv2.imshow('Image: add line', image0)\n",
    "cv2.waitKey(0)\n",
    "cv2.destroyAllWindows()"
   ]
  },
  {
   "cell_type": "code",
   "execution_count": 7,
   "metadata": {},
   "outputs": [],
   "source": [
    "# 加入圓形(實心)\n",
    "cv2.circle(image0, (350,100), 50,(255,0,0),-1)\n",
    "cv2.imshow('Image: add line', image0)\n",
    "cv2.waitKey(0)\n",
    "cv2.destroyAllWindows()"
   ]
  },
  {
   "cell_type": "markdown",
   "metadata": {},
   "source": [
    "## ■圖片中加入文字\n",
    "### PIL圖像變數=Image.fromarray(OpenCV圖像變數)\n",
    "    * 功能: 轉換資料型別。從openCV轉成PIL\n",
    "### ImageDraw.Draw(PIL圖像變數).text(文字位置, 要寫的文字, 顏色, 設定)\n",
    "    * 功能: 在PIL圖像變數上加入文字\n",
    "    * 參數: 文字位置: 左上角為(0,0)\n",
    "            設定: ImageFont.truetype(TTF字型檔位置, 文字大小)\n",
    "### OpenCV圖像變數=np.array(PIL圖像變數)\n",
    "    * 功能: 轉換資料型別。從PIL轉成OpenCV"
   ]
  },
  {
   "cell_type": "code",
   "execution_count": 9,
   "metadata": {},
   "outputs": [],
   "source": [
    "from PIL import ImageFont, Image, ImageDraw\n",
    "\n",
    "image2_0 = np.full((600,800,3),(200,0,220),np.uint8)\n",
    "image2_0 = Image.fromarray(image2_0)\n",
    "\n",
    "font = ImageFont.truetype('mingliu.ttc', 50)\n",
    "ImageDraw.Draw(image2_0).text((50,50), '要寫的文字', (255,0,0),font)\n",
    "image2_0 = np.array(image2_0)\n",
    "\n",
    "cv2.imshow('Image: add line', image2_0)\n",
    "cv2.waitKey(0)\n",
    "cv2.destroyAllWindows()"
   ]
  },
  {
   "cell_type": "markdown",
   "metadata": {},
   "source": [
    "---\n",
    "## ■圖片色彩數值的數學運算"
   ]
  },
  {
   "cell_type": "code",
   "execution_count": 22,
   "metadata": {},
   "outputs": [],
   "source": [
    "# 設定原始圖片\n",
    "image0 = np.full((600,800,3),(127,0,127),np.uint8)\n",
    "image1 = np.full((600,800,3),(100,100,100),np.uint8)\n",
    "\n",
    "cv2.imshow('Image: image0 ', image0)\n",
    "cv2.imshow('Image: image1 ', image1)\n",
    "cv2.waitKey(0)\n",
    "cv2.destroyAllWindows()"
   ]
  },
  {
   "cell_type": "markdown",
   "metadata": {},
   "source": [
    "### 結果圖像=cv2.add(圖像變數一, 圖像變數二)\n",
    "    * 功能: 圖像相加(大於255的會直接等於255)\n",
    "            a.k.a. 圖片會變亮"
   ]
  },
  {
   "cell_type": "code",
   "execution_count": 7,
   "metadata": {},
   "outputs": [],
   "source": [
    "image_add = cv2.add(image0, image1)\n",
    "\n",
    "cv2.imshow('Image: image0 ', image0)\n",
    "cv2.imshow('Image: add ', image_add)\n",
    "cv2.waitKey(0)\n",
    "cv2.destroyAllWindows()"
   ]
  },
  {
   "cell_type": "markdown",
   "metadata": {},
   "source": [
    "### 結果圖像=cv2.subtract(圖像變數一, 圖像變數二)\n",
    "    * 功能: 圖像相減(小於0的會直接等於0)\n",
    "            a.k.a. 圖片會變暗\n",
    "### 結果圖像=cv2.absdiff(圖像變數一, 圖像變數二)\n",
    "    * 功能: 圖像相減(小於0的會做絕對值運算)，不一定會使圖片變暗"
   ]
  },
  {
   "cell_type": "code",
   "execution_count": 8,
   "metadata": {},
   "outputs": [],
   "source": [
    "# 減法: 會變暗\n",
    "image_sub = cv2.subtract(image0, image1)\n",
    "\n",
    "cv2.imshow('Image: image0 ', image0)\n",
    "cv2.imshow('Image: sub ', image_sub)\n",
    "cv2.waitKey(0)\n",
    "cv2.destroyAllWindows()"
   ]
  },
  {
   "cell_type": "code",
   "execution_count": 9,
   "metadata": {},
   "outputs": [],
   "source": [
    "# 減法: 絕對值版\n",
    "image_absdiff = cv2.absdiff(image0, image1)\n",
    "\n",
    "cv2.imshow('Image: image0 ', image0)\n",
    "cv2.imshow('Image: abs diff ', image_absdiff)\n",
    "cv2.waitKey(0)\n",
    "cv2.destroyAllWindows()"
   ]
  },
  {
   "cell_type": "markdown",
   "metadata": {},
   "source": [
    "### 結果圖像=cv2.divide(圖像變數一, 圖像變數二)\n",
    "    * 功能: 圖像相除(未整除的會四捨五入)"
   ]
  },
  {
   "cell_type": "code",
   "execution_count": 10,
   "metadata": {},
   "outputs": [],
   "source": [
    "image_divide = cv2.divide(image0, image1)\n",
    "\n",
    "cv2.imshow('Image: image0 ', image0)\n",
    "cv2.imshow('Image: divide ', image_divide)\n",
    "cv2.waitKey(0)\n",
    "cv2.destroyAllWindows()"
   ]
  },
  {
   "cell_type": "markdown",
   "metadata": {},
   "source": [
    "### 結果圖像=cv2.multiply(圖像變數一, 圖像變數二)\n",
    "    * 功能: 圖像相乘(大於255的會直接等於255)"
   ]
  },
  {
   "cell_type": "code",
   "execution_count": 23,
   "metadata": {},
   "outputs": [],
   "source": [
    "image_mul = cv2.multiply(image0, image1)\n",
    "\n",
    "cv2.imshow('Image: image0 ', image0)\n",
    "cv2.imshow('Image: divide ', image_mul)\n",
    "cv2.waitKey(0)\n",
    "cv2.destroyAllWindows()"
   ]
  },
  {
   "cell_type": "markdown",
   "metadata": {},
   "source": [
    "### 結果圖像=cv2.resize(圖像變數, 新圖像大小)\n",
    "    * 功能: 改變圖像尺寸、圖像縮放\n",
    "    * 參數: 圖像變數: 被改尺寸的圖\n",
    "            新圖像大小: (width, height)\n",
    "    * 等比例放大縮小原圖的作法: 給新的寬，int(width/image0.shape[1]*image0.shape[0])"
   ]
  },
  {
   "cell_type": "code",
   "execution_count": 26,
   "metadata": {},
   "outputs": [],
   "source": [
    "width  = 300\n",
    "height = int(width/image0.shape[1]*image0.shape[0])\n",
    "\n",
    "image_resize = cv2.resize(image0, (width, height))\n",
    "\n",
    "cv2.imshow('Image: image0 ', image0)\n",
    "cv2.imshow('Image: new size', image_resize)\n",
    "cv2.waitKey(0)\n",
    "cv2.destroyAllWindows()"
   ]
  },
  {
   "cell_type": "markdown",
   "metadata": {},
   "source": [
    "### 結果圖像=cv2.flip(圖像變數, 翻轉方式)\n",
    "    * 功能: 圖像翻轉\n",
    "    * 翻轉方式: \n",
    "            1  => 左右翻轉\n",
    "            0  => 上下翻轉\n",
    "            -1 => 左右與上下皆翻轉"
   ]
  },
  {
   "cell_type": "code",
   "execution_count": 27,
   "metadata": {},
   "outputs": [],
   "source": [
    "image_flip = cv2.flip(image0, -1)\n",
    "\n",
    "cv2.imshow('Image: image0 ', image0)\n",
    "cv2.imshow('Image: new size', image_flip)\n",
    "cv2.waitKey(0)\n",
    "cv2.destroyAllWindows()"
   ]
  },
  {
   "cell_type": "markdown",
   "metadata": {},
   "source": [
    "### 變換矩陣=cv2.getRotationMatrix2D(旋轉中心, 角度, 縮放比率)\n",
    "    \n",
    "### 結果圖像=cv2.warpAffine(圖像變數, 變換矩陣, 輸出的圖像大小)\n",
    "    * 功能: 用上面兩句語法旋轉圖片\n",
    "    * 輸出的圖像大小: (width, height)"
   ]
  },
  {
   "cell_type": "code",
   "execution_count": 29,
   "metadata": {},
   "outputs": [],
   "source": [
    "d = cv2.getRotationMatrix2D((300,300), 45, 1)\n",
    "image_rotation = cv2.warpAffine(image0, d, (500,500))\n",
    "\n",
    "cv2.imshow('Image: image0 ', image0)\n",
    "cv2.imshow('Image: new size', image_rotation)\n",
    "cv2.waitKey(0)\n",
    "cv2.destroyAllWindows()"
   ]
  },
  {
   "cell_type": "markdown",
   "metadata": {},
   "source": [
    "### 圖像變數[Y軸範圍起始:Y軸範圍結束, X軸範圍起始: X軸範圍結束]\n",
    "    * 功能: 透過numpy的矩陣變數功能作到裁切效果"
   ]
  },
  {
   "cell_type": "code",
   "execution_count": 28,
   "metadata": {},
   "outputs": [],
   "source": [
    "image_cut = image0[50:200,100:250]\n",
    "\n",
    "cv2.imshow('Image: image0 ', image0)\n",
    "cv2.imshow('Image: new size', image_cut)\n",
    "cv2.waitKey(0)\n",
    "cv2.destroyAllWindows()"
   ]
  },
  {
   "cell_type": "markdown",
   "metadata": {},
   "source": [
    "### 圖像變數[Y, X] = Blue, Green, Red\n",
    "    * 功能: 對圖像變數中座標位置x, y的pixel賦予新顏色"
   ]
  },
  {
   "cell_type": "code",
   "execution_count": 25,
   "metadata": {},
   "outputs": [],
   "source": [
    "image0 = np.full((600,800,3),(200,0,220),np.uint8)\n",
    "image0[200][200] = 0,0,0\n",
    "\n",
    "cv2.imshow('Image', image0)\n",
    "cv2.waitKey(0)\n",
    "cv2.destroyAllWindows()"
   ]
  }
 ],
 "metadata": {
  "kernelspec": {
   "display_name": "Python 3",
   "language": "python",
   "name": "python3"
  },
  "language_info": {
   "codemirror_mode": {
    "name": "ipython",
    "version": 3
   },
   "file_extension": ".py",
   "mimetype": "text/x-python",
   "name": "python",
   "nbconvert_exporter": "python",
   "pygments_lexer": "ipython3",
   "version": "3.6.8"
  }
 },
 "nbformat": 4,
 "nbformat_minor": 4
}
